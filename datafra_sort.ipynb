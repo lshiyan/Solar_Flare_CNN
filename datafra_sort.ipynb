
import numpy as np
import pandas as pd
df = pd.read_csv("/Users/themathman/Downloads/DatasetSolarFlares.csv")

df = df[df.FlareNumber != 0]

df = df[['T_REC']]

filtered_df = df[~df['T_REC'].str.startswith(('2017', '2018', '2019'))]

array=filtered_df.to_numpy()

final_list=np.append(array, np.array("2017-03-31 21:24"))
