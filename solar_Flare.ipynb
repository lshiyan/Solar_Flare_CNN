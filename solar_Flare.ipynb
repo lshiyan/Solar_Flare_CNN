{
 "cells": [
  {
   "cell_type": "code",
   "execution_count": 3,
   "metadata": {},
   "outputs": [
    {
     "name": "stdout",
     "output_type": "stream",
     "text": [
      "      FlareNumber                T_REC  NOAA_AR  QUALITY  Longitude  Latitude  \\\n",
      "0               0  2010-05-01 23:48:00    11064        0         28        15   \n",
      "1               0  2010-05-02 23:48:00    11064        0         15        16   \n",
      "2               0  2010-05-03 23:48:00    11063        0         38        16   \n",
      "3               0  2010-05-03 23:48:00    11064        0          2        15   \n",
      "4               0  2010-05-03 23:48:00    11065        0         16        32   \n",
      "...           ...                  ...      ...      ...        ...       ...   \n",
      "8869            1  2017-09-07 15:00:00    12673        0         58         9   \n",
      "8870            1  2017-09-07 23:24:00    12673        0         58         9   \n",
      "8871            1  2017-09-08 04:12:00    12673        0         70         9   \n",
      "8872            1  2017-09-08 10:48:00    12673        0         70         9   \n",
      "8873            1  2017-09-08 22:00:00    12673        0         70         9   \n",
      "\n",
      "       TOTUSJH        TOTBSQ        TOTPOT       TOTUSJZ  ...  MEANGBT  \\\n",
      "0       64.266  2.114200e+09  3.596094e+21  1.204115e+12  ...  159.145   \n",
      "1       37.787  1.392500e+09  1.230179e+21  7.821382e+11  ...  152.084   \n",
      "2      109.597  2.105100e+09  7.247206e+21  2.210139e+12  ...  102.453   \n",
      "3       15.710  1.124900e+09  6.198173e+20  4.025928e+11  ...  129.121   \n",
      "4       36.136  9.150800e+08  2.181095e+21  9.585403e+11  ...  103.869   \n",
      "...        ...           ...           ...           ...  ...      ...   \n",
      "8869  5769.701  7.859000e+10  1.449073e+24  8.285670e+13  ...   91.245   \n",
      "8870  5522.014  7.859300e+10  1.307202e+24  7.869333e+13  ...   86.031   \n",
      "8871  5562.046  7.901800e+10  1.324064e+24  7.924306e+13  ...   88.569   \n",
      "8872  5072.454  7.555800e+10  1.292672e+24  7.544420e+13  ...   81.764   \n",
      "8873  4000.937  7.261200e+10  1.162882e+24  6.169161e+13  ...   71.229   \n",
      "\n",
      "      MEANGBZ  MEANGBH   MEANJZH    TOTFY   MEANJZD   MEANALP    TOTFX  \\\n",
      "0     160.266   76.708 -0.012005  -349.33  1.697619 -0.031377   285.80   \n",
      "1     158.553   66.027 -0.009381  -216.80  1.823444 -0.032041     7.22   \n",
      "2     102.625   39.314  0.000564  -102.16 -0.383748  0.001854  -470.04   \n",
      "3     130.118   48.735 -0.002707  -152.54  1.768766 -0.014741  -123.05   \n",
      "4     104.104   31.943 -0.000633   181.19  0.107664 -0.003386  -191.06   \n",
      "...       ...      ...       ...      ...       ...       ...      ...   \n",
      "8869  104.540   56.592 -0.035639  3494.60 -0.159696 -0.059097 -7805.50   \n",
      "8870   99.375   53.054 -0.024100  3508.80 -0.065194 -0.040032 -7381.50   \n",
      "8871  104.689   54.267 -0.021587  3518.20 -0.099056 -0.035159 -7190.80   \n",
      "8872   97.597   50.309 -0.015436  2879.60 -0.127479 -0.027490 -7216.30   \n",
      "8873   83.605   44.017 -0.010398  2063.60 -0.109603 -0.019149 -7492.60   \n",
      "\n",
      "        EPSY    EPSX  \n",
      "0     0.1567 -0.1282  \n",
      "1     0.1477 -0.0049  \n",
      "2     0.0460  0.2118  \n",
      "3     0.1286  0.1037  \n",
      "4    -0.1878  0.1980  \n",
      "...      ...     ...  \n",
      "8869 -0.0422  0.0942  \n",
      "8870 -0.0423  0.0891  \n",
      "8871 -0.0422  0.0863  \n",
      "8872 -0.0361  0.0906  \n",
      "8873 -0.0270  0.0979  \n",
      "\n",
      "[8874 rows x 31 columns]\n"
     ]
    }
   ],
   "source": [
    "import pandas as pd\n",
    "import os\n",
    "import tarfile\n",
    "from PIL import Image\n",
    "import torchvision \n",
    "\n",
    "#Extracting solar image data.\n",
    "file = tarfile.open('solar_Flare.tar.gz') \n",
    "  \n",
    "file.extractall('c:\\\\Users\\\\Shiyan Liu\\\\Github\\\\Solar_Flare_CNN') \n",
    "  \n",
    "file.close() \n",
    "\n",
    "#Reading flare dataset.\n",
    "flareDataset=pd.read_csv('flareDataset.csv')\n",
    "print(flareDataset)\n",
    "\n",
    "solar_Images=[f for f in os.listdir(\"img\") if f.endswith(\".jpg\")]"
   ]
  },
  {
   "cell_type": "code",
   "execution_count": 29,
   "metadata": {},
   "outputs": [
    {
     "name": "stdout",
     "output_type": "stream",
     "text": [
      "torch.Size([3, 512, 512])\n"
     ]
    }
   ],
   "source": [
    "#Loading images\n",
    "transformed_Images=[]\n",
    "for imageFilePath in solar_Images:\n",
    "    image=Image.open(\"img\\\\\"+imageFilePath)\n",
    "    tensor_Transform=torchvision.transforms.ToTensor()\n",
    "    transformed_Image=tensor_Transform(image)\n",
    "    transformed_Images.append(transformed_Image)\n",
    "\n",
    "print(transformed_Images[0].shape)"
   ]
  }
 ],
 "metadata": {
  "kernelspec": {
   "display_name": "Python 3",
   "language": "python",
   "name": "python3"
  },
  "language_info": {
   "codemirror_mode": {
    "name": "ipython",
    "version": 3
   },
   "file_extension": ".py",
   "mimetype": "text/x-python",
   "name": "python",
   "nbconvert_exporter": "python",
   "pygments_lexer": "ipython3",
   "version": "3.11.5"
  }
 },
 "nbformat": 4,
 "nbformat_minor": 2
}
