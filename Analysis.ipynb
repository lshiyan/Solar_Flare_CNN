{
 "cells": [
  {
   "cell_type": "code",
   "execution_count": null,
   "metadata": {
    "is_executing": true
   },
   "outputs": [],
   "source": [
    "from PIL import Image\n",
    "from torchvision import transforms\n",
    "\n",
    "solar_Images=[f for f in os.listdir(\"img\") if f.endswith(\".jpg\")]\n",
    "\n",
    "transformed_Images=[]\n",
    "for imageFilePath in solar_Images:\n",
    "    image=Image.to_grayscale(Image.open(\"img\\\\\"+imageFilePath))\n",
    "    tensor_Transform = transforms.ToTensor()\n",
    "    transformed_Image=tensor_Transform(image)\n",
    "    transformed_Images.append(transformed_Image)\n",
    "\n",
    "print(transformed_Images[1])"
   ]
  }
 ],
 "metadata": {
  "kernelspec": {
   "display_name": "base",
   "language": "python",
   "name": "python3"
  },
  "language_info": {
   "codemirror_mode": {
    "name": "ipython",
    "version": 3
   },
   "file_extension": ".py",
   "mimetype": "text/x-python",
   "name": "python",
   "nbconvert_exporter": "python",
   "pygments_lexer": "ipython3",
   "version": "3.9.7"
  }
 },
 "nbformat": 4,
 "nbformat_minor": 2
}
